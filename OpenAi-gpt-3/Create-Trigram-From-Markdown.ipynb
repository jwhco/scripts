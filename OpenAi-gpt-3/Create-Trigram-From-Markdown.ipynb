{
 "cells": [
  {
   "attachments": {},
   "cell_type": "markdown",
   "metadata": {},
   "source": [
    "# Create Trigram From Markdown\n",
    "\n",
    "## Summary\n",
    "\n",
    "Read a Markdown file then tokenize, ignore stop words, and then tokenize. Display tokens on the screen with counts."
   ]
  },
  {
   "attachments": {},
   "cell_type": "markdown",
   "metadata": {},
   "source": [
    "## Credits\n",
    "\n",
    "- OpenAI Chat GPT 3, Dec 15 Version."
   ]
  },
  {
   "attachments": {},
   "cell_type": "markdown",
   "metadata": {},
   "source": [
    "## Python Script"
   ]
  },
  {
   "attachments": {},
   "cell_type": "markdown",
   "metadata": {},
   "source": [
    "### Import Libraries\n",
    "\n",
    "- `sys` to interact with OS filesystem.\n",
    "- `re` UNKONWN\n",
    "-  `markdown` to read input files."
   ]
  },
  {
   "cell_type": "code",
   "execution_count": 2,
   "metadata": {},
   "outputs": [],
   "source": [
    "import sys\n",
    "import re\n",
    "import markdown"
   ]
  },
  {
   "attachments": {},
   "cell_type": "markdown",
   "metadata": {},
   "source": [
    "### Read the input file\n",
    "\n",
    "- [ ] Change file from command line. [created::2023-01-20] Use a test file rather than reading from command line.\n",
    "- [ ] Does the file exist? [created::2023-01-20] If error, exit the script. File needs to be there to read it."
   ]
  },
  {
   "cell_type": "code",
   "execution_count": 3,
   "metadata": {},
   "outputs": [],
   "source": [
    "input_file = sys.argv[1]"
   ]
  },
  {
   "attachments": {},
   "cell_type": "markdown",
   "metadata": {},
   "source": [
    "### Initialize a dictionary\n",
    "\n",
    "Initialize a dictionary to store the tri-grams and their counts. A trigram is three words together."
   ]
  },
  {
   "cell_type": "code",
   "execution_count": null,
   "metadata": {},
   "outputs": [],
   "source": [
    "trigrams = {}"
   ]
  },
  {
   "attachments": {},
   "cell_type": "markdown",
   "metadata": {},
   "source": [
    "### Define YAML Frontmatter\n",
    "\n",
    "Use regular expression to match YAML front matter. Ignore values in front matter. It is possible for this to break when additional `^---` elsewhere in file."
   ]
  },
  {
   "cell_type": "code",
   "execution_count": null,
   "metadata": {},
   "outputs": [],
   "source": [
    "# Regular expression to match YAML front matter\n",
    "front_matter_regex = r'^---\\s*$'"
   ]
  },
  {
   "cell_type": "code",
   "execution_count": null,
   "metadata": {},
   "outputs": [],
   "source": [
    "\n",
    "# Read the contents of the input file\n",
    "with open(input_file, 'r') as f:\n",
    "    # Flag to indicate if we are currently in the YAML front matter\n",
    "    in_front_matter = False\n",
    "    \n",
    "    # Store the lines of the file in a list\n",
    "    lines = f.readlines()"
   ]
  },
  {
   "cell_type": "code",
   "execution_count": null,
   "metadata": {},
   "outputs": [],
   "source": [
    "# Convert the Markdown text to plain text\n",
    "plain_text = markdown.markdown(''.join(lines))"
   ]
  },
  {
   "cell_type": "code",
   "execution_count": null,
   "metadata": {},
   "outputs": [],
   "source": [
    "# Split the plain text into lines\n",
    "lines = plain_text.splitlines()"
   ]
  },
  {
   "cell_type": "code",
   "execution_count": null,
   "metadata": {},
   "outputs": [],
   "source": [
    "# Iterate through the lines of the file\n",
    "for line in lines:\n",
    "        # Split the line into words\n",
    "        words = line.split()\n",
    "        \n",
    "        # Iterate through the words in the line\n",
    "        for i in range(len(words)-2):\n",
    "            # Extract the current tri-gram\n",
    "            trigram = ' '.join(words[i:i+3])\n",
    "            \n",
    "            # Increment the count for this tri-gram in the dictionary\n",
    "            if trigram in trigrams:\n",
    "                trigrams[trigram] += 1\n",
    "            else:\n",
    "                trigrams[trigram] = 1\n"
   ]
  },
  {
   "cell_type": "code",
   "execution_count": null,
   "metadata": {},
   "outputs": [],
   "source": [
    "# Sort the trigrams by count in descending order\n",
    "sorted_trigrams = sorted(trigrams.items(), key=lambda x: x[1], reverse=True)"
   ]
  },
  {
   "cell_type": "code",
   "execution_count": null,
   "metadata": {},
   "outputs": [],
   "source": [
    "# Print the trigrams and their counts\n",
    "for trigram, count in sorted_trigrams:\n",
    "    print(f'{trigram}: {count}')\n"
   ]
  }
 ],
 "metadata": {
  "kernelspec": {
   "display_name": "Python 3",
   "language": "python",
   "name": "python3"
  },
  "language_info": {
   "codemirror_mode": {
    "name": "ipython",
    "version": 3
   },
   "file_extension": ".py",
   "mimetype": "text/x-python",
   "name": "python",
   "nbconvert_exporter": "python",
   "pygments_lexer": "ipython3",
   "version": "3.10.6"
  },
  "orig_nbformat": 4,
  "vscode": {
   "interpreter": {
    "hash": "916dbcbb3f70747c44a77c7bcd40155683ae19c65e1c03b4aa3499c5328201f1"
   }
  }
 },
 "nbformat": 4,
 "nbformat_minor": 2
}
