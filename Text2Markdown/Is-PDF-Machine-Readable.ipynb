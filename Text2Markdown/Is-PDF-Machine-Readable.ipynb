{
 "cells": [
  {
   "attachments": {},
   "cell_type": "markdown",
   "id": "2a9123c6-262e-4c2d-ad26-17b0fdba934f",
   "metadata": {},
   "source": [
    "# Determine If PDF is Machine Readable\n",
    "\n",
    "## Summary\n",
    "\n",
    "Functions determine if PDF is machine readable so that side car can be produced to improve machine learning (ML). If PDF is NOT machine readable, then it will be flagged with an error, but a sidecar document still be produced. The sidecar is being searched, not the PDF."
   ]
  },
  {
   "attachments": {},
   "cell_type": "markdown",
   "id": "85555fa7",
   "metadata": {},
   "source": [
    "## Questions\n",
    "\n",
    "- Is the PDF machine readable?\n",
    "- What do we know about the PDF?\n",
    "- What is the creation date?\n",
    "- What kind of meta data is available?\n",
    "- Is the text able to be tokenized?\n",
    "- Does the text contain any binary?"
   ]
  },
  {
   "attachments": {},
   "cell_type": "markdown",
   "id": "76449c3a",
   "metadata": {},
   "source": [
    "## Outline\n",
    "\n",
    "1. Get file name. Does file exist? Exit if not.\n",
    "2. Open PDF to check OCR. If error then exit.\n",
    "3. Return TRUE if OCR is readable."
   ]
  },
  {
   "attachments": {},
   "cell_type": "markdown",
   "id": "44f30653",
   "metadata": {},
   "source": [
    "# Is PDF Machine Readable?\n"
   ]
  },
  {
   "cell_type": "code",
   "execution_count": 2,
   "id": "f4059677",
   "metadata": {},
   "outputs": [
    {
     "name": "stdout",
     "output_type": "stream",
     "text": [
      "Hello World\n"
     ]
    }
   ],
   "source": [
    "print(\"Hello World\")"
   ]
  },
  {
   "attachments": {},
   "cell_type": "markdown",
   "id": "9100c223",
   "metadata": {},
   "source": [
    "/EOF/"
   ]
  }
 ],
 "metadata": {
  "kernelspec": {
   "display_name": "Python 3",
   "language": "python",
   "name": "python3"
  },
  "language_info": {
   "codemirror_mode": {
    "name": "ipython",
    "version": 3
   },
   "file_extension": ".py",
   "mimetype": "text/x-python",
   "name": "python",
   "nbconvert_exporter": "python",
   "pygments_lexer": "ipython3",
   "version": "3.10.6"
  },
  "vscode": {
   "interpreter": {
    "hash": "916dbcbb3f70747c44a77c7bcd40155683ae19c65e1c03b4aa3499c5328201f1"
   }
  }
 },
 "nbformat": 4,
 "nbformat_minor": 5
}
