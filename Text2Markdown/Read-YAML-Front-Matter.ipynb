{
 "cells": [
  {
   "cell_type": "code",
   "execution_count": null,
   "metadata": {},
   "outputs": [],
   "source": [
    "import frontmatter\n",
    "import io\n",
    "from os.path import basename, splitext\n",
    "import glob\n",
    "\n",
    "# Where are the files to modify\n",
    "path = \"en/*.markdown\"\n",
    "\n",
    "# Loop through all files\n",
    "for fname in glob.glob(path):\n",
    "    with io.open(fname, 'r') as f:\n",
    "        # Parse file's front matter\n",
    "        post = frontmatter.load(f)\n",
    "        if post.get('author') == None:\n",
    "            post['author'] = \"alex\"\n",
    "            # Save the modified file\n",
    "            newfile = io.open(fname, 'w', encoding='utf8')\n",
    "            frontmatter.dump(post, newfile)\n",
    "            newfile.close()"
   ]
  },
  {
   "attachments": {},
   "cell_type": "markdown",
   "metadata": {},
   "source": [
    "# Read YAML front matter in Markdown"
   ]
  },
  {
   "attachments": {},
   "cell_type": "markdown",
   "metadata": {},
   "source": [
    "A more reliable way would be to use [Text::Frontmatter](https://metacpan.org/pod/Text::FrontMatter::YAML) module. "
   ]
  },
  {
   "attachments": {},
   "cell_type": "markdown",
   "metadata": {},
   "source": [
    "## Requirements\n",
    "- Read front matter `tags: ` to develop keywords for analysis. Turn these into keywords, as would other tags, use them to category content with ngram analysis.\n",
    "- Use the `type: ` element to filter out non content materials. Focus on {Report, Article, Newscaster}. Save {Social, Discussion, Message} when script can better determine speaker.\n",
    "- Extract `date: ` as creation date of note if file creationn not earlier. Use the last modified date from the file and `published: ` relevant to timeline.\n",
    "- Read YAML front matter into arrays with a pointer to the file itself. These values could be an index to group files without reading body text.\n",
    "- Read front matter to find Google Analytic UTM values to match with marketing stats from social media and analytics servers. Consider UTM the index for the file itself.\n",
    "- Read Google Analytics UTM front matter, turn into a heigharchy tree. Have pointers back to the files to map channel performance then do analysis of context of messages.\n",
    "- Use an inline YAML to identify permalinks for content published. Try to only have one `permalink: ` per note. Permenant links can be used as keys to find content too."
   ]
  },
  {
   "attachments": {},
   "cell_type": "markdown",
   "metadata": {},
   "source": [
    "## Purpose\n",
    "\n",
    "- Turn YAML front matter in Obsidian Vault Markdown into keys and reference.\n",
    "- Use YAML front matter to do `tags: ` minding and associations. \n",
    "- Write function to run quality assurance on YAML front matter in Obsidian Vault."
   ]
  },
  {
   "attachments": {},
   "cell_type": "markdown",
   "metadata": {},
   "source": [
    "/EOF/"
   ]
  }
 ],
 "metadata": {
  "language_info": {
   "name": "python"
  },
  "orig_nbformat": 4
 },
 "nbformat": 4,
 "nbformat_minor": 2
}
