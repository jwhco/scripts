{
 "cells": [
  {
   "cell_type": "markdown",
   "id": "2a9123c6-262e-4c2d-ad26-17b0fdba934f",
   "metadata": {},
   "source": [
    "# Determine If PDF is Machine Readable\n",
    "\n",
    "## Summary\n",
    "\n",
    "Functions determine if PDF is machine readable so that side car can be produced to improve machine learning (ML). If PDF is NOT machine readable, then it will be flagged with an error, but a sidecar document still be produced. The sidecar is being searched, not the PDF.\n",
    "\n",
    "## Questions\n",
    "\n",
    "- Is the PDF machine readable?\n",
    "- What do we know about the PDF?\n",
    "- What is the creation date?\n",
    "- What kind of meta data is available?\n",
    "- Is the text able to be tokenized?\n",
    "- Does the text contain any binary?\n"
   ]
  }
 ],
 "metadata": {
  "kernelspec": {
   "display_name": "Python 3 (ipykernel)",
   "language": "python",
   "name": "python3"
  },
  "language_info": {
   "codemirror_mode": {
    "name": "ipython",
    "version": 3
   },
   "file_extension": ".py",
   "mimetype": "text/x-python",
   "name": "python",
   "nbconvert_exporter": "python",
   "pygments_lexer": "ipython3",
   "version": "3.10.6"
  }
 },
 "nbformat": 4,
 "nbformat_minor": 5
}
