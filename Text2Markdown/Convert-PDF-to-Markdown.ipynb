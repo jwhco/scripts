{
 "cells": [
  {
   "attachments": {},
   "cell_type": "markdown",
   "metadata": {},
   "source": [
    "# Convert PDF to Markdown sidecar File\n",
    "\n",
    "## Summary\n",
    "\n",
    "Read the PDF provided, extract text from it. Turn meta data in to YAML header. Body text will become Markdown text file. Name the same as original except with `.md` extension.\n",
    "\n",
    "## Outline\n",
    "\n",
    "1. Get file name,\n",
    "2. Does file exist, \n",
    "3. Open PDF file,\n",
    "4. Output file next to original.\n",
    "5. Read meta data, --> Write to YAML header.\n",
    "6. Read OCR text, --> Write to Markdown export.\n",
    "7. Close output file."
   ]
  },
  {
   "attachments": {},
   "cell_type": "markdown",
   "metadata": {},
   "source": [
    "## Requirements\n",
    "- If PDF does not contain OCR text, use a tool to process it in the background. Or provide an error message that can flag the files for future processing. The script could create the sidecar with an error message, or different extension.\n",
    "- Extract meta data from file creation, modification, meta data, and other attributes. Will need a way to read file attributes backed into PDF, plus a to format YAML front matter. Build this table in a seperate function. (May have utility value.)\n",
    "- Use a standard extraction like `pandoc` to get text out of the PDF file. Need to check the work to make sure it is only ASCII or UTF-8 text. Don't want a Markdown file with special characters or garbage. If extraction has binary, strip it but leave warning in header.\n",
    "- Maintain the original file name in the front matter and sidecar naming. Make it a simple extension change to reference the original document or sidecar. Keep extensions simple, including `.yml` for YAML, and `.md` for Markdown."
   ]
  },
  {
   "attachments": {},
   "cell_type": "markdown",
   "metadata": {},
   "source": [
    "## Functions"
   ]
  },
  {
   "attachments": {},
   "cell_type": "markdown",
   "metadata": {},
   "source": [
    "### PDF OCR Conversion"
   ]
  },
  {
   "attachments": {},
   "cell_type": "markdown",
   "metadata": {},
   "source": [
    "Read a PDF file, turn it into text file using Optical Character Recognition (OCR).\n",
    "\n",
    "Requires:\n",
    "\n",
    "- Python3 or better,\n",
    "    - PIL\n",
    "    - pdf2image\n",
    "    - pytesseract\n",
    "- tesseract-ocr\n"
   ]
  },
  {
   "attachments": {},
   "cell_type": "markdown",
   "metadata": {},
   "source": [
    "#### Reference\n",
    "\n",
    "- Geeks for Geeks. Python | Reading contents of PDF using OCR (Optical Character Recgonition). (2022 June 16). https://www.geeksforgeeks.org/python-reading-contents-of-pdf-using-ocr-optical-character-recognition/\n",
    "- Stack Overflow. Python - OCR - pytesseract for PDF. (Last accessed 14 February 2023). https://stackoverflow.com/questions/60754884/python-ocr-pytesseract-for-pdf#60755272 (Lambo)"
   ]
  },
  {
   "attachments": {},
   "cell_type": "markdown",
   "metadata": {},
   "source": [
    "- [ ] Failes on Windows laptop. [created::2023-02-14] Need to clean this document up from the Ubuntu desktop in office. Python works better there."
   ]
  },
  {
   "cell_type": "code",
   "execution_count": 2,
   "metadata": {},
   "outputs": [
    {
     "ename": "PDFInfoNotInstalledError",
     "evalue": "Unable to get page count. Is poppler installed and in PATH?",
     "output_type": "error",
     "traceback": [
      "\u001b[1;31m---------------------------------------------------------------------------\u001b[0m",
      "\u001b[1;31mFileNotFoundError\u001b[0m                         Traceback (most recent call last)",
      "File \u001b[1;32mc:\\Users\\justi\\AppData\\Local\\Programs\\Python\\Python310\\lib\\site-packages\\pdf2image\\pdf2image.py:568\u001b[0m, in \u001b[0;36mpdfinfo_from_path\u001b[1;34m(pdf_path, userpw, ownerpw, poppler_path, rawdates, timeout)\u001b[0m\n\u001b[0;32m    567\u001b[0m     env[\u001b[39m\"\u001b[39m\u001b[39mLD_LIBRARY_PATH\u001b[39m\u001b[39m\"\u001b[39m] \u001b[39m=\u001b[39m poppler_path \u001b[39m+\u001b[39m \u001b[39m\"\u001b[39m\u001b[39m:\u001b[39m\u001b[39m\"\u001b[39m \u001b[39m+\u001b[39m env\u001b[39m.\u001b[39mget(\u001b[39m\"\u001b[39m\u001b[39mLD_LIBRARY_PATH\u001b[39m\u001b[39m\"\u001b[39m, \u001b[39m\"\u001b[39m\u001b[39m\"\u001b[39m)\n\u001b[1;32m--> 568\u001b[0m proc \u001b[39m=\u001b[39m Popen(command, env\u001b[39m=\u001b[39;49menv, stdout\u001b[39m=\u001b[39;49mPIPE, stderr\u001b[39m=\u001b[39;49mPIPE)\n\u001b[0;32m    570\u001b[0m \u001b[39mtry\u001b[39;00m:\n",
      "File \u001b[1;32mc:\\Users\\justi\\AppData\\Local\\Programs\\Python\\Python310\\lib\\subprocess.py:971\u001b[0m, in \u001b[0;36mPopen.__init__\u001b[1;34m(self, args, bufsize, executable, stdin, stdout, stderr, preexec_fn, close_fds, shell, cwd, env, universal_newlines, startupinfo, creationflags, restore_signals, start_new_session, pass_fds, user, group, extra_groups, encoding, errors, text, umask, pipesize)\u001b[0m\n\u001b[0;32m    968\u001b[0m             \u001b[39mself\u001b[39m\u001b[39m.\u001b[39mstderr \u001b[39m=\u001b[39m io\u001b[39m.\u001b[39mTextIOWrapper(\u001b[39mself\u001b[39m\u001b[39m.\u001b[39mstderr,\n\u001b[0;32m    969\u001b[0m                     encoding\u001b[39m=\u001b[39mencoding, errors\u001b[39m=\u001b[39merrors)\n\u001b[1;32m--> 971\u001b[0m     \u001b[39mself\u001b[39;49m\u001b[39m.\u001b[39;49m_execute_child(args, executable, preexec_fn, close_fds,\n\u001b[0;32m    972\u001b[0m                         pass_fds, cwd, env,\n\u001b[0;32m    973\u001b[0m                         startupinfo, creationflags, shell,\n\u001b[0;32m    974\u001b[0m                         p2cread, p2cwrite,\n\u001b[0;32m    975\u001b[0m                         c2pread, c2pwrite,\n\u001b[0;32m    976\u001b[0m                         errread, errwrite,\n\u001b[0;32m    977\u001b[0m                         restore_signals,\n\u001b[0;32m    978\u001b[0m                         gid, gids, uid, umask,\n\u001b[0;32m    979\u001b[0m                         start_new_session)\n\u001b[0;32m    980\u001b[0m \u001b[39mexcept\u001b[39;00m:\n\u001b[0;32m    981\u001b[0m     \u001b[39m# Cleanup if the child failed starting.\u001b[39;00m\n",
      "File \u001b[1;32mc:\\Users\\justi\\AppData\\Local\\Programs\\Python\\Python310\\lib\\subprocess.py:1440\u001b[0m, in \u001b[0;36mPopen._execute_child\u001b[1;34m(self, args, executable, preexec_fn, close_fds, pass_fds, cwd, env, startupinfo, creationflags, shell, p2cread, p2cwrite, c2pread, c2pwrite, errread, errwrite, unused_restore_signals, unused_gid, unused_gids, unused_uid, unused_umask, unused_start_new_session)\u001b[0m\n\u001b[0;32m   1439\u001b[0m \u001b[39mtry\u001b[39;00m:\n\u001b[1;32m-> 1440\u001b[0m     hp, ht, pid, tid \u001b[39m=\u001b[39m _winapi\u001b[39m.\u001b[39;49mCreateProcess(executable, args,\n\u001b[0;32m   1441\u001b[0m                              \u001b[39m# no special security\u001b[39;49;00m\n\u001b[0;32m   1442\u001b[0m                              \u001b[39mNone\u001b[39;49;00m, \u001b[39mNone\u001b[39;49;00m,\n\u001b[0;32m   1443\u001b[0m                              \u001b[39mint\u001b[39;49m(\u001b[39mnot\u001b[39;49;00m close_fds),\n\u001b[0;32m   1444\u001b[0m                              creationflags,\n\u001b[0;32m   1445\u001b[0m                              env,\n\u001b[0;32m   1446\u001b[0m                              cwd,\n\u001b[0;32m   1447\u001b[0m                              startupinfo)\n\u001b[0;32m   1448\u001b[0m \u001b[39mfinally\u001b[39;00m:\n\u001b[0;32m   1449\u001b[0m     \u001b[39m# Child is launched. Close the parent's copy of those pipe\u001b[39;00m\n\u001b[0;32m   1450\u001b[0m     \u001b[39m# handles that only the child should have open.  You need\u001b[39;00m\n\u001b[1;32m   (...)\u001b[0m\n\u001b[0;32m   1453\u001b[0m     \u001b[39m# pipe will not close when the child process exits and the\u001b[39;00m\n\u001b[0;32m   1454\u001b[0m     \u001b[39m# ReadFile will hang.\u001b[39;00m\n",
      "\u001b[1;31mFileNotFoundError\u001b[0m: [WinError 2] The system cannot find the file specified",
      "\nDuring handling of the above exception, another exception occurred:\n",
      "\u001b[1;31mPDFInfoNotInstalledError\u001b[0m                  Traceback (most recent call last)",
      "Cell \u001b[1;32mIn[2], line 10\u001b[0m\n\u001b[0;32m      7\u001b[0m filePath \u001b[39m=\u001b[39m \u001b[39m\"\u001b[39m\u001b[39m./test/202301191803-Easy-No-Yeast-Flatbread.pdf\u001b[39m\u001b[39m\"\u001b[39m\n\u001b[0;32m      9\u001b[0m \u001b[39m# Convert PDF to images\u001b[39;00m\n\u001b[1;32m---> 10\u001b[0m pages \u001b[39m=\u001b[39m pdf2image\u001b[39m.\u001b[39;49mconvert_from_path(filePath)\n\u001b[0;32m     12\u001b[0m \u001b[39m# Initialize an empty string for the final text output\u001b[39;00m\n\u001b[0;32m     13\u001b[0m text \u001b[39m=\u001b[39m \u001b[39m\"\u001b[39m\u001b[39m\"\u001b[39m\n",
      "File \u001b[1;32mc:\\Users\\justi\\AppData\\Local\\Programs\\Python\\Python310\\lib\\site-packages\\pdf2image\\pdf2image.py:127\u001b[0m, in \u001b[0;36mconvert_from_path\u001b[1;34m(pdf_path, dpi, output_folder, first_page, last_page, fmt, jpegopt, thread_count, userpw, ownerpw, use_cropbox, strict, transparent, single_file, output_file, poppler_path, grayscale, size, paths_only, use_pdftocairo, timeout, hide_annotations)\u001b[0m\n\u001b[0;32m    124\u001b[0m \u001b[39mif\u001b[39;00m \u001b[39misinstance\u001b[39m(poppler_path, PurePath):\n\u001b[0;32m    125\u001b[0m     poppler_path \u001b[39m=\u001b[39m poppler_path\u001b[39m.\u001b[39mas_posix()\n\u001b[1;32m--> 127\u001b[0m page_count \u001b[39m=\u001b[39m pdfinfo_from_path(\n\u001b[0;32m    128\u001b[0m     pdf_path, userpw, ownerpw, poppler_path\u001b[39m=\u001b[39;49mpoppler_path\n\u001b[0;32m    129\u001b[0m )[\u001b[39m\"\u001b[39m\u001b[39mPages\u001b[39m\u001b[39m\"\u001b[39m]\n\u001b[0;32m    131\u001b[0m \u001b[39m# We start by getting the output format, the buffer processing function and if we need pdftocairo\u001b[39;00m\n\u001b[0;32m    132\u001b[0m parsed_fmt, final_extension, parse_buffer_func, use_pdfcairo_format \u001b[39m=\u001b[39m _parse_format(\n\u001b[0;32m    133\u001b[0m     fmt, grayscale\n\u001b[0;32m    134\u001b[0m )\n",
      "File \u001b[1;32mc:\\Users\\justi\\AppData\\Local\\Programs\\Python\\Python310\\lib\\site-packages\\pdf2image\\pdf2image.py:594\u001b[0m, in \u001b[0;36mpdfinfo_from_path\u001b[1;34m(pdf_path, userpw, ownerpw, poppler_path, rawdates, timeout)\u001b[0m\n\u001b[0;32m    591\u001b[0m     \u001b[39mreturn\u001b[39;00m d\n\u001b[0;32m    593\u001b[0m \u001b[39mexcept\u001b[39;00m \u001b[39mOSError\u001b[39;00m:\n\u001b[1;32m--> 594\u001b[0m     \u001b[39mraise\u001b[39;00m PDFInfoNotInstalledError(\n\u001b[0;32m    595\u001b[0m         \u001b[39m\"\u001b[39m\u001b[39mUnable to get page count. Is poppler installed and in PATH?\u001b[39m\u001b[39m\"\u001b[39m\n\u001b[0;32m    596\u001b[0m     )\n\u001b[0;32m    597\u001b[0m \u001b[39mexcept\u001b[39;00m \u001b[39mValueError\u001b[39;00m:\n\u001b[0;32m    598\u001b[0m     \u001b[39mraise\u001b[39;00m PDFPageCountError(\n\u001b[0;32m    599\u001b[0m         \u001b[39mf\u001b[39m\u001b[39m\"\u001b[39m\u001b[39mUnable to get page count.\u001b[39m\u001b[39m\\n\u001b[39;00m\u001b[39m{\u001b[39;00merr\u001b[39m.\u001b[39mdecode(\u001b[39m'\u001b[39m\u001b[39mutf8\u001b[39m\u001b[39m'\u001b[39m,\u001b[39m \u001b[39m\u001b[39m'\u001b[39m\u001b[39mignore\u001b[39m\u001b[39m'\u001b[39m)\u001b[39m}\u001b[39;00m\u001b[39m\"\u001b[39m\n\u001b[0;32m    600\u001b[0m     )\n",
      "\u001b[1;31mPDFInfoNotInstalledError\u001b[0m: Unable to get page count. Is poppler installed and in PATH?"
     ]
    }
   ],
   "source": [
    "import os\n",
    "from PIL import Image\n",
    "import pytesseract\n",
    "import pdf2image\n",
    "\n",
    "# Path to the PDF file\n",
    "filePath = \"./test/202301191803-Easy-No-Yeast-Flatbread.pdf\"\n",
    "\n",
    "# Convert PDF to images\n",
    "pages = pdf2image.convert_from_path(filePath)\n",
    "\n",
    "# Initialize an empty string for the final text output\n",
    "text = \"\"\n",
    "\n",
    "# Loop through each image and extract text using OCR\n",
    "for page in pages:\n",
    "    # Convert the image to grayscale\n",
    "    img = page.convert('L')\n",
    "    # Apply threshold to the image to remove noise\n",
    "    threshold = 200\n",
    "    img = img.point(lambda x: 0 if x < threshold else 255)\n",
    "    # Extract text using OCR\n",
    "    text += pytesseract.image_to_string(img)\n"
   ]
  },
  {
   "attachments": {},
   "cell_type": "markdown",
   "metadata": {},
   "source": [
    "Writes the text from PDF OCR to a text file. Very good job."
   ]
  },
  {
   "cell_type": "code",
   "execution_count": 18,
   "metadata": {},
   "outputs": [
    {
     "name": "stdout",
     "output_type": "stream",
     "text": [
      "Extracted text written to ./test/202301191803-Easy-No-Yeast-Flatbread.txt\n"
     ]
    }
   ],
   "source": [
    "# Construct the output file path\n",
    "outFilePath = os.path.splitext(filePath)[0] + '.txt'\n",
    "\n",
    "# Write the extracted text to the output file\n",
    "with open(outFilePath, 'w') as outFile:\n",
    "    outFile.write(text)\n",
    "\n",
    "print(f\"Extracted text written to {outFilePath}\")"
   ]
  },
  {
   "attachments": {},
   "cell_type": "markdown",
   "metadata": {},
   "source": [
    "Converts PDF OCR generated text into a crappy Markdown file."
   ]
  },
  {
   "cell_type": "code",
   "execution_count": 19,
   "metadata": {},
   "outputs": [
    {
     "name": "stdout",
     "output_type": "stream",
     "text": [
      "Extracted text written to ./test/202301191803-Easy-No-Yeast-Flatbread.md\n"
     ]
    }
   ],
   "source": [
    "# Convert the extracted text to Markdown syntax\n",
    "markdownText = \"\"\n",
    "for line in text.split(\"\\n\"):\n",
    "    if line.strip() == \"\":\n",
    "        # Skip empty lines\n",
    "        continue\n",
    "    elif line.isupper():\n",
    "        # Treat lines that are all uppercase as section headers\n",
    "        markdownText += f\"\\n# {line.strip()}\\n\\n\"\n",
    "    elif line[0].isdigit():\n",
    "        # Treat lines that start with a digit as subsection headers\n",
    "        markdownText += f\"\\n## {line.strip()}\\n\\n\"\n",
    "    else:\n",
    "        # Treat all other lines as body text\n",
    "        markdownText += line.strip() + \" \"\n",
    "\n",
    "# Construct the output file path\n",
    "outFilePath = os.path.splitext(filePath)[0] + '.md'\n",
    "\n",
    "# Write the extracted text in Markdown syntax to the output file\n",
    "with open(outFilePath, 'w') as outFile:\n",
    "    outFile.write(markdownText)\n",
    "\n",
    "print(f\"Extracted text written to {outFilePath}\")"
   ]
  },
  {
   "attachments": {},
   "cell_type": "markdown",
   "metadata": {},
   "source": [
    "New try from scratch."
   ]
  },
  {
   "cell_type": "code",
   "execution_count": 20,
   "metadata": {},
   "outputs": [
    {
     "name": "stdout",
     "output_type": "stream",
     "text": [
      "Extracted text written to ./test/202301191803-Easy-No-Yeast-Flatbread.md\n"
     ]
    }
   ],
   "source": [
    "import os\n",
    "import re\n",
    "from PIL import Image\n",
    "import pytesseract\n",
    "import pdf2image\n",
    "\n",
    "# Path to the PDF file\n",
    "filePath = \"./test/202301191803-Easy-No-Yeast-Flatbread.pdf\"\n",
    "\n",
    "# Convert PDF to images\n",
    "pages = pdf2image.convert_from_path(filePath)\n",
    "\n",
    "# Initialize a list to store the text blocks\n",
    "textBlocks = []\n",
    "\n",
    "# Loop through each image and extract text using OCR\n",
    "for page in pages:\n",
    "    # Convert the image to grayscale\n",
    "    img = page.convert('L')\n",
    "    # Apply threshold to the image to remove noise\n",
    "    threshold = 200\n",
    "    img = img.point(lambda x: 0 if x < threshold else 255)\n",
    "    # Extract text using OCR\n",
    "    text = pytesseract.image_to_string(img)\n",
    "    # Add the text block to the list\n",
    "    textBlocks.append(text)\n",
    "\n",
    "# Combine the text blocks into a single string\n",
    "text = \"\\n\".join(textBlocks)\n",
    "\n",
    "# Convert the extracted text to Markdown syntax\n",
    "markdownText = \"\"\n",
    "for line in text.split(\"\\n\"):\n",
    "    if line.strip() == \"\":\n",
    "        # Skip empty lines\n",
    "        continue\n",
    "    elif re.match(r\"^[A-Z\\s]+$\", line):\n",
    "        # Treat lines that are all uppercase as section headers\n",
    "        markdownText += f\"\\n# {line.strip()}\\n\\n\"\n",
    "    elif re.match(r\"^[A-Z][a-z\\s]+$\", line):\n",
    "        # Treat lines that start with a capital letter as subsection headers\n",
    "        markdownText += f\"\\n## {line.strip()}\\n\\n\"\n",
    "    else:\n",
    "        # Treat all other lines as body text\n",
    "        markdownText += line.strip() + \" \"\n",
    "\n",
    "# Construct the output file path\n",
    "outFilePath = os.path.splitext(filePath)[0] + '.md'\n",
    "\n",
    "# Write the extracted text in Markdown syntax to the output file\n",
    "with open(outFilePath, 'w') as outFile:\n",
    "    outFile.write(markdownText)\n",
    "\n",
    "print(f\"Extracted text written to {outFilePath}\")"
   ]
  },
  {
   "attachments": {},
   "cell_type": "markdown",
   "metadata": {},
   "source": [
    "Last chance for ChatGPT Feb 13 Version. "
   ]
  },
  {
   "cell_type": "code",
   "execution_count": 22,
   "metadata": {},
   "outputs": [
    {
     "name": "stdout",
     "output_type": "stream",
     "text": [
      "Extracted text written to ./test/202301191803-Easy-No-Yeast-Flatbread.md\n"
     ]
    }
   ],
   "source": [
    "import os\n",
    "import re\n",
    "from PIL import Image\n",
    "import pytesseract\n",
    "import pdf2image\n",
    "\n",
    "# Path to the PDF file\n",
    "filePath = \"./test/202301191803-Easy-No-Yeast-Flatbread.pdf\"\n",
    "\n",
    "# Convert PDF to images\n",
    "pages = pdf2image.convert_from_path(filePath)\n",
    "\n",
    "# Initialize a list to store the text blocks\n",
    "textBlocks = []\n",
    "\n",
    "# Loop through each image and extract text using OCR\n",
    "for page in pages:\n",
    "    # Convert the image to grayscale\n",
    "    img = page.convert('L')\n",
    "    # Apply threshold to the image to remove noise\n",
    "    threshold = 200\n",
    "    img = img.point(lambda x: 0 if x < threshold else 255)\n",
    "    # Extract text using OCR\n",
    "    text = pytesseract.image_to_string(img)\n",
    "    # Add the text block to the list\n",
    "    textBlocks.append(text)\n",
    "\n",
    "# Combine the text blocks into a single string\n",
    "text = \"\\n\".join(textBlocks)\n",
    "\n",
    "# Convert the extracted text to Markdown syntax\n",
    "markdownText = \"\"\n",
    "for line in text.split(\"\\n\"):\n",
    "    if line.strip() == \"\":\n",
    "        # Skip empty lines\n",
    "        continue\n",
    "    elif re.match(r\"^[A-Z\\s]+$\", line):\n",
    "        # Treat lines that are all uppercase as section headers\n",
    "        markdownText += f\"\\n# {line.strip()}\\n\\n\"\n",
    "    elif re.match(r\"^[A-Z][a-z\\s]+$\", line):\n",
    "        # Treat lines that start with a capital letter as subsection headers\n",
    "        markdownText += f\"\\n## {line.strip()}\\n\\n\"\n",
    "    else:\n",
    "        # Treat all other lines as body text\n",
    "        if markdownText.endswith(\"\\n\\n\"):\n",
    "            # Start a new paragraph\n",
    "            markdownText += f\"{line.strip()}\\n\\n\"\n",
    "        elif re.match(r\"^\\d+\\.\\s\", line.strip()):\n",
    "            # Treat lines that start with a number and period as numbered list items\n",
    "            markdownText += f\"1. {line.strip()}\\n\"\n",
    "        elif re.match(r\"^[*-]\\s\", line.strip()):\n",
    "            # Treat lines that start with a bullet as bullet list items\n",
    "            markdownText += f\"* {line.strip()[2:].strip()}\\n\"\n",
    "        else:\n",
    "            # Continue the current paragraph\n",
    "            markdownText += f\"{line.strip()} \"\n",
    "\n",
    "# Construct the output file path\n",
    "outFilePath = os.path.splitext(filePath)[0] + '.md'\n",
    "\n",
    "# Write the extracted text in Markdown syntax to the output file\n",
    "with open(outFilePath, 'w') as outFile:\n",
    "    outFile.write(markdownText)\n",
    "\n",
    "print(f\"Extracted text written to {outFilePath}\")\n"
   ]
  },
  {
   "attachments": {},
   "cell_type": "markdown",
   "metadata": {},
   "source": [
    "NOTES: ChatGPT creates code similar to what was found online. It does a good job. Enough to get a novice programmer on the right track. \n",
    "\n",
    "- [ ] Break code up into single function. [created::2023-02-14] The last version is the best."
   ]
  },
  {
   "attachments": {},
   "cell_type": "markdown",
   "metadata": {},
   "source": [
    "/EOF/"
   ]
  }
 ],
 "metadata": {
  "kernelspec": {
   "display_name": "Python 3",
   "language": "python",
   "name": "python3"
  },
  "language_info": {
   "codemirror_mode": {
    "name": "ipython",
    "version": 3
   },
   "file_extension": ".py",
   "mimetype": "text/x-python",
   "name": "python",
   "nbconvert_exporter": "python",
   "pygments_lexer": "ipython3",
   "version": "3.10.10"
  },
  "orig_nbformat": 4,
  "vscode": {
   "interpreter": {
    "hash": "e7b2765c452f16a3a4fadf78b91c0bdc1510ecc5741a067e6b0a43ef6f42ca60"
   }
  }
 },
 "nbformat": 4,
 "nbformat_minor": 2
}
