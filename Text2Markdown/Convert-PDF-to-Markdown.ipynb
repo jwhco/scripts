{
 "cells": [
  {
   "attachments": {},
   "cell_type": "markdown",
   "metadata": {},
   "source": [
    "# Convert PDF to Markdown sidecar File\n",
    "\n",
    "## Summary\n",
    "\n",
    "Read the PDF provided, extract text from it. Turn meta data in to YAML header. Body text will become Markdown text file. Name the same as original except with `.md` extension.\n",
    "\n",
    "## Outline\n",
    "\n",
    "1. Get file name,\n",
    "2. Does file exist, \n",
    "3. Open PDF file,\n",
    "4. Output file next to original.\n",
    "5. Read meta data, --> Write to YAML header.\n",
    "6. Read OCR text, --> Write to Markdown export.\n",
    "7. Close output file."
   ]
  }
 ],
 "metadata": {
  "kernelspec": {
   "display_name": "Python 3",
   "language": "python",
   "name": "python3"
  },
  "language_info": {
   "name": "python",
   "version": "3.10.6 (main, Nov 14 2022, 16:10:14) [GCC 11.3.0]"
  },
  "orig_nbformat": 4,
  "vscode": {
   "interpreter": {
    "hash": "916dbcbb3f70747c44a77c7bcd40155683ae19c65e1c03b4aa3499c5328201f1"
   }
  }
 },
 "nbformat": 4,
 "nbformat_minor": 2
}
