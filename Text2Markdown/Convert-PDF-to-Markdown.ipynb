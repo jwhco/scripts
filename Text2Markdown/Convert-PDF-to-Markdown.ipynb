{
 "cells": [
  {
   "attachments": {},
   "cell_type": "markdown",
   "metadata": {},
   "source": [
    "# Convert PDF to Markdown sidecar File\n",
    "\n",
    "## Summary\n",
    "\n",
    "Read the PDF provided, extract text from it. Turn meta data in to YAML header. Body text will become Markdown text file. Name the same as original except with `.md` extension.\n",
    "\n",
    "## Outline\n",
    "\n",
    "1. Get file name,\n",
    "2. Does file exist, \n",
    "3. Open PDF file,\n",
    "4. Output file next to original.\n",
    "5. Read meta data, --> Write to YAML header.\n",
    "6. Read OCR text, --> Write to Markdown export.\n",
    "7. Close output file."
   ]
  },
  {
   "attachments": {},
   "cell_type": "markdown",
   "metadata": {},
   "source": [
    "## Requirements\n",
    "- If PDF does not contain OCR text, use a tool to process it in the background. Or provide an error message that can flag the files for future processing. The script could create the sidecar with an error message, or different extension.\n",
    "- Extract meta data from file creation, modification, meta data, and other attributes. Will need a way to read file attributes backed into PDF, plus a to format YAML front matter. Build this table in a seperate function. (May have utility value.)\n",
    "- Use a standard extraction like `pandoc` to get text out of the PDF file. Need to check the work to make sure it is only ASCII or UTF-8 text. Don't want a Markdown file with special characters or garbage. If extraction has binary, strip it but leave warning in header.\n",
    "- Maintain the original file name in the front matter and sidecar naming. Make it a simple extension change to reference the original document or sidecar. Keep extensions simple, including `.yml` for YAML, and `.md` for Markdown."
   ]
  },
  {
   "attachments": {},
   "cell_type": "markdown",
   "metadata": {},
   "source": [
    "## Modules\n",
    "\n",
    "Using Python3 or better.\n",
    "\n",
    "- PIL\n",
    "- pdf2image\n",
    "- pytesseract"
   ]
  },
  {
   "attachments": {},
   "cell_type": "markdown",
   "metadata": {},
   "source": [
    "## Functions"
   ]
  },
  {
   "attachments": {},
   "cell_type": "markdown",
   "metadata": {},
   "source": [
    "### PDF OCR Conversion"
   ]
  },
  {
   "attachments": {},
   "cell_type": "markdown",
   "metadata": {},
   "source": [
    "Read a PDF file, turn it into text file using Optical Character Recognition (OCR).\n",
    "\n",
    "Requires:\n",
    "\n",
    "- Python3 or better,\n",
    "    - PIL\n",
    "    - pdf2image\n",
    "    - pytesseract\n",
    "- tesseract-ocr\n"
   ]
  },
  {
   "cell_type": "code",
   "execution_count": 10,
   "metadata": {},
   "outputs": [],
   "source": [
    "import os\n",
    "from PIL import Image\n",
    "from pdf2image import convert_from_path\n",
    "import pytesseract"
   ]
  },
  {
   "attachments": {},
   "cell_type": "markdown",
   "metadata": {},
   "source": [
    "Establish filename for testing. Later function will receive file from function, or process a directory."
   ]
  },
  {
   "cell_type": "code",
   "execution_count": 11,
   "metadata": {},
   "outputs": [],
   "source": [
    "filePath = './test/202301191803-Easy-No-Yeast-Flatbread.pdf'"
   ]
  },
  {
   "attachments": {},
   "cell_type": "markdown",
   "metadata": {},
   "source": [
    "Extract file to process."
   ]
  },
  {
   "cell_type": "code",
   "execution_count": 12,
   "metadata": {},
   "outputs": [],
   "source": [
    "doc = convert_from_path(filePath)\n",
    "path, fileName = os.path.split(filePath)\n",
    "fileBaseName, fileExtension = os.path.splitext(fileName)"
   ]
  },
  {
   "attachments": {},
   "cell_type": "markdown",
   "metadata": {},
   "source": [
    "Extract the page as an image, then turn the image into a text. Print those page numbers into text format."
   ]
  },
  {
   "cell_type": "code",
   "execution_count": 13,
   "metadata": {},
   "outputs": [
    {
     "ename": "AttributeError",
     "evalue": "__array_interface__",
     "output_type": "error",
     "traceback": [
      "\u001b[0;31m---------------------------------------------------------------------------\u001b[0m",
      "\u001b[0;31mAttributeError\u001b[0m                            Traceback (most recent call last)",
      "Cell \u001b[0;32mIn[13], line 2\u001b[0m\n\u001b[1;32m      1\u001b[0m \u001b[39mfor\u001b[39;00m page_number, page_data \u001b[39min\u001b[39;00m \u001b[39menumerate\u001b[39m(doc):\n\u001b[0;32m----> 2\u001b[0m     txt \u001b[39m=\u001b[39m pytesseract\u001b[39m.\u001b[39mimage_to_string(Image\u001b[39m.\u001b[39;49mfromarray(page_data))\u001b[39m.\u001b[39mencode(\u001b[39m\"\u001b[39m\u001b[39mutf-8\u001b[39m\u001b[39m\"\u001b[39m)\n\u001b[1;32m      3\u001b[0m     \u001b[39mprint\u001b[39m(\u001b[39m\"\u001b[39m\u001b[39mPage # \u001b[39m\u001b[39m{}\u001b[39;00m\u001b[39m - \u001b[39m\u001b[39m{}\u001b[39;00m\u001b[39m\"\u001b[39m\u001b[39m.\u001b[39mformat(\u001b[39mstr\u001b[39m(page_number),txt))\n",
      "File \u001b[0;32m/usr/lib/python3/dist-packages/PIL/Image.py:2803\u001b[0m, in \u001b[0;36mfromarray\u001b[0;34m(obj, mode)\u001b[0m\n\u001b[1;32m   2764\u001b[0m \u001b[39mdef\u001b[39;00m \u001b[39mfromarray\u001b[39m(obj, mode\u001b[39m=\u001b[39m\u001b[39mNone\u001b[39;00m):\n\u001b[1;32m   2765\u001b[0m \u001b[39m    \u001b[39m\u001b[39m\"\"\"\u001b[39;00m\n\u001b[1;32m   2766\u001b[0m \u001b[39m    Creates an image memory from an object exporting the array interface\u001b[39;00m\n\u001b[1;32m   2767\u001b[0m \u001b[39m    (using the buffer protocol).\u001b[39;00m\n\u001b[0;32m   (...)\u001b[0m\n\u001b[1;32m   2801\u001b[0m \u001b[39m    .. versionadded:: 1.1.6\u001b[39;00m\n\u001b[1;32m   2802\u001b[0m \u001b[39m    \"\"\"\u001b[39;00m\n\u001b[0;32m-> 2803\u001b[0m     arr \u001b[39m=\u001b[39m obj\u001b[39m.\u001b[39;49m__array_interface__\n\u001b[1;32m   2804\u001b[0m     shape \u001b[39m=\u001b[39m arr[\u001b[39m\"\u001b[39m\u001b[39mshape\u001b[39m\u001b[39m\"\u001b[39m]\n\u001b[1;32m   2805\u001b[0m     ndim \u001b[39m=\u001b[39m \u001b[39mlen\u001b[39m(shape)\n",
      "File \u001b[0;32m/usr/lib/python3/dist-packages/PIL/Image.py:519\u001b[0m, in \u001b[0;36mImage.__getattr__\u001b[0;34m(self, name)\u001b[0m\n\u001b[1;32m    512\u001b[0m     warnings\u001b[39m.\u001b[39mwarn(\n\u001b[1;32m    513\u001b[0m         \u001b[39m\"\u001b[39m\u001b[39mImage categories are deprecated and will be removed in Pillow 10 \u001b[39m\u001b[39m\"\u001b[39m\n\u001b[1;32m    514\u001b[0m         \u001b[39m\"\u001b[39m\u001b[39m(2023-07-01). Use is_animated instead.\u001b[39m\u001b[39m\"\u001b[39m,\n\u001b[1;32m    515\u001b[0m         \u001b[39mDeprecationWarning\u001b[39;00m,\n\u001b[1;32m    516\u001b[0m         stacklevel\u001b[39m=\u001b[39m\u001b[39m2\u001b[39m,\n\u001b[1;32m    517\u001b[0m     )\n\u001b[1;32m    518\u001b[0m     \u001b[39mreturn\u001b[39;00m \u001b[39mself\u001b[39m\u001b[39m.\u001b[39m_category\n\u001b[0;32m--> 519\u001b[0m \u001b[39mraise\u001b[39;00m \u001b[39mAttributeError\u001b[39;00m(name)\n",
      "\u001b[0;31mAttributeError\u001b[0m: __array_interface__"
     ]
    }
   ],
   "source": [
    "for page_number, page_data in enumerate(doc):\n",
    "    txt = pytesseract.image_to_string(Image.fromarray(page_data)).encode(\"utf-8\")\n",
    "    print(\"Page # {} - {}\".format(str(page_number),txt))"
   ]
  },
  {
   "attachments": {},
   "cell_type": "markdown",
   "metadata": {},
   "source": [
    "#### Reference\n",
    "\n",
    "- Geeks for Geeks. Python | Reading contents of PDF using OCR (Optical Character Recgonition). (2022 June 16). https://www.geeksforgeeks.org/python-reading-contents-of-pdf-using-ocr-optical-character-recognition/\n",
    "- Stack Overflow. Python - OCR - pytesseract for PDF. (Last accessed 14 February 2023). https://stackoverflow.com/questions/60754884/python-ocr-pytesseract-for-pdf#60755272 (Lambo)"
   ]
  },
  {
   "cell_type": "code",
   "execution_count": 17,
   "metadata": {},
   "outputs": [],
   "source": [
    "import os\n",
    "from PIL import Image\n",
    "import pytesseract\n",
    "import pdf2image\n",
    "\n",
    "# Path to the PDF file\n",
    "filePath = \"./test/202301191803-Easy-No-Yeast-Flatbread.pdf\"\n",
    "\n",
    "# Convert PDF to images\n",
    "pages = pdf2image.convert_from_path(filePath)\n",
    "\n",
    "# Initialize an empty string for the final text output\n",
    "text = \"\"\n",
    "\n",
    "# Loop through each image and extract text using OCR\n",
    "for page in pages:\n",
    "    # Convert the image to grayscale\n",
    "    img = page.convert('L')\n",
    "    # Apply threshold to the image to remove noise\n",
    "    threshold = 200\n",
    "    img = img.point(lambda x: 0 if x < threshold else 255)\n",
    "    # Extract text using OCR\n",
    "    text += pytesseract.image_to_string(img)\n"
   ]
  },
  {
   "attachments": {},
   "cell_type": "markdown",
   "metadata": {},
   "source": [
    "Writes the text from PDF OCR to a text file. Very good job."
   ]
  },
  {
   "cell_type": "code",
   "execution_count": 18,
   "metadata": {},
   "outputs": [
    {
     "name": "stdout",
     "output_type": "stream",
     "text": [
      "Extracted text written to ./test/202301191803-Easy-No-Yeast-Flatbread.txt\n"
     ]
    }
   ],
   "source": [
    "# Construct the output file path\n",
    "outFilePath = os.path.splitext(filePath)[0] + '.txt'\n",
    "\n",
    "# Write the extracted text to the output file\n",
    "with open(outFilePath, 'w') as outFile:\n",
    "    outFile.write(text)\n",
    "\n",
    "print(f\"Extracted text written to {outFilePath}\")"
   ]
  },
  {
   "attachments": {},
   "cell_type": "markdown",
   "metadata": {},
   "source": [
    "Converts PDF OCR generated text into a crappy Markdown file."
   ]
  },
  {
   "cell_type": "code",
   "execution_count": 19,
   "metadata": {},
   "outputs": [
    {
     "name": "stdout",
     "output_type": "stream",
     "text": [
      "Extracted text written to ./test/202301191803-Easy-No-Yeast-Flatbread.md\n"
     ]
    }
   ],
   "source": [
    "# Convert the extracted text to Markdown syntax\n",
    "markdownText = \"\"\n",
    "for line in text.split(\"\\n\"):\n",
    "    if line.strip() == \"\":\n",
    "        # Skip empty lines\n",
    "        continue\n",
    "    elif line.isupper():\n",
    "        # Treat lines that are all uppercase as section headers\n",
    "        markdownText += f\"\\n# {line.strip()}\\n\\n\"\n",
    "    elif line[0].isdigit():\n",
    "        # Treat lines that start with a digit as subsection headers\n",
    "        markdownText += f\"\\n## {line.strip()}\\n\\n\"\n",
    "    else:\n",
    "        # Treat all other lines as body text\n",
    "        markdownText += line.strip() + \" \"\n",
    "\n",
    "# Construct the output file path\n",
    "outFilePath = os.path.splitext(filePath)[0] + '.md'\n",
    "\n",
    "# Write the extracted text in Markdown syntax to the output file\n",
    "with open(outFilePath, 'w') as outFile:\n",
    "    outFile.write(markdownText)\n",
    "\n",
    "print(f\"Extracted text written to {outFilePath}\")"
   ]
  },
  {
   "attachments": {},
   "cell_type": "markdown",
   "metadata": {},
   "source": [
    "New try from scratch."
   ]
  },
  {
   "cell_type": "code",
   "execution_count": 20,
   "metadata": {},
   "outputs": [
    {
     "name": "stdout",
     "output_type": "stream",
     "text": [
      "Extracted text written to ./test/202301191803-Easy-No-Yeast-Flatbread.md\n"
     ]
    }
   ],
   "source": [
    "import os\n",
    "import re\n",
    "from PIL import Image\n",
    "import pytesseract\n",
    "import pdf2image\n",
    "\n",
    "# Path to the PDF file\n",
    "filePath = \"./test/202301191803-Easy-No-Yeast-Flatbread.pdf\"\n",
    "\n",
    "# Convert PDF to images\n",
    "pages = pdf2image.convert_from_path(filePath)\n",
    "\n",
    "# Initialize a list to store the text blocks\n",
    "textBlocks = []\n",
    "\n",
    "# Loop through each image and extract text using OCR\n",
    "for page in pages:\n",
    "    # Convert the image to grayscale\n",
    "    img = page.convert('L')\n",
    "    # Apply threshold to the image to remove noise\n",
    "    threshold = 200\n",
    "    img = img.point(lambda x: 0 if x < threshold else 255)\n",
    "    # Extract text using OCR\n",
    "    text = pytesseract.image_to_string(img)\n",
    "    # Add the text block to the list\n",
    "    textBlocks.append(text)\n",
    "\n",
    "# Combine the text blocks into a single string\n",
    "text = \"\\n\".join(textBlocks)\n",
    "\n",
    "# Convert the extracted text to Markdown syntax\n",
    "markdownText = \"\"\n",
    "for line in text.split(\"\\n\"):\n",
    "    if line.strip() == \"\":\n",
    "        # Skip empty lines\n",
    "        continue\n",
    "    elif re.match(r\"^[A-Z\\s]+$\", line):\n",
    "        # Treat lines that are all uppercase as section headers\n",
    "        markdownText += f\"\\n# {line.strip()}\\n\\n\"\n",
    "    elif re.match(r\"^[A-Z][a-z\\s]+$\", line):\n",
    "        # Treat lines that start with a capital letter as subsection headers\n",
    "        markdownText += f\"\\n## {line.strip()}\\n\\n\"\n",
    "    else:\n",
    "        # Treat all other lines as body text\n",
    "        markdownText += line.strip() + \" \"\n",
    "\n",
    "# Construct the output file path\n",
    "outFilePath = os.path.splitext(filePath)[0] + '.md'\n",
    "\n",
    "# Write the extracted text in Markdown syntax to the output file\n",
    "with open(outFilePath, 'w') as outFile:\n",
    "    outFile.write(markdownText)\n",
    "\n",
    "print(f\"Extracted text written to {outFilePath}\")"
   ]
  },
  {
   "attachments": {},
   "cell_type": "markdown",
   "metadata": {},
   "source": [
    "Last chance for ChatGPT Feb 13 Version. "
   ]
  },
  {
   "cell_type": "code",
   "execution_count": 22,
   "metadata": {},
   "outputs": [
    {
     "name": "stdout",
     "output_type": "stream",
     "text": [
      "Extracted text written to ./test/202301191803-Easy-No-Yeast-Flatbread.md\n"
     ]
    }
   ],
   "source": [
    "import os\n",
    "import re\n",
    "from PIL import Image\n",
    "import pytesseract\n",
    "import pdf2image\n",
    "\n",
    "# Path to the PDF file\n",
    "filePath = \"./test/202301191803-Easy-No-Yeast-Flatbread.pdf\"\n",
    "\n",
    "# Convert PDF to images\n",
    "pages = pdf2image.convert_from_path(filePath)\n",
    "\n",
    "# Initialize a list to store the text blocks\n",
    "textBlocks = []\n",
    "\n",
    "# Loop through each image and extract text using OCR\n",
    "for page in pages:\n",
    "    # Convert the image to grayscale\n",
    "    img = page.convert('L')\n",
    "    # Apply threshold to the image to remove noise\n",
    "    threshold = 200\n",
    "    img = img.point(lambda x: 0 if x < threshold else 255)\n",
    "    # Extract text using OCR\n",
    "    text = pytesseract.image_to_string(img)\n",
    "    # Add the text block to the list\n",
    "    textBlocks.append(text)\n",
    "\n",
    "# Combine the text blocks into a single string\n",
    "text = \"\\n\".join(textBlocks)\n",
    "\n",
    "# Convert the extracted text to Markdown syntax\n",
    "markdownText = \"\"\n",
    "for line in text.split(\"\\n\"):\n",
    "    if line.strip() == \"\":\n",
    "        # Skip empty lines\n",
    "        continue\n",
    "    elif re.match(r\"^[A-Z\\s]+$\", line):\n",
    "        # Treat lines that are all uppercase as section headers\n",
    "        markdownText += f\"\\n# {line.strip()}\\n\\n\"\n",
    "    elif re.match(r\"^[A-Z][a-z\\s]+$\", line):\n",
    "        # Treat lines that start with a capital letter as subsection headers\n",
    "        markdownText += f\"\\n## {line.strip()}\\n\\n\"\n",
    "    else:\n",
    "        # Treat all other lines as body text\n",
    "        if markdownText.endswith(\"\\n\\n\"):\n",
    "            # Start a new paragraph\n",
    "            markdownText += f\"{line.strip()}\\n\\n\"\n",
    "        elif re.match(r\"^\\d+\\.\\s\", line.strip()):\n",
    "            # Treat lines that start with a number and period as numbered list items\n",
    "            markdownText += f\"1. {line.strip()}\\n\"\n",
    "        elif re.match(r\"^[*-]\\s\", line.strip()):\n",
    "            # Treat lines that start with a bullet as bullet list items\n",
    "            markdownText += f\"* {line.strip()[2:].strip()}\\n\"\n",
    "        else:\n",
    "            # Continue the current paragraph\n",
    "            markdownText += f\"{line.strip()} \"\n",
    "\n",
    "# Construct the output file path\n",
    "outFilePath = os.path.splitext(filePath)[0] + '.md'\n",
    "\n",
    "# Write the extracted text in Markdown syntax to the output file\n",
    "with open(outFilePath, 'w') as outFile:\n",
    "    outFile.write(markdownText)\n",
    "\n",
    "print(f\"Extracted text written to {outFilePath}\")\n"
   ]
  },
  {
   "attachments": {},
   "cell_type": "markdown",
   "metadata": {},
   "source": [
    "NOTES: ChatGPT creates code similar to what was found online. It does a good job. Enough to get a novice programmer on the right track. \n",
    "\n",
    "- [ ] Break code up into single function. [created::2023-02-14] The last version is the best."
   ]
  },
  {
   "attachments": {},
   "cell_type": "markdown",
   "metadata": {},
   "source": [
    "/EOF/"
   ]
  }
 ],
 "metadata": {
  "kernelspec": {
   "display_name": "Python 3",
   "language": "python",
   "name": "python3"
  },
  "language_info": {
   "codemirror_mode": {
    "name": "ipython",
    "version": 3
   },
   "file_extension": ".py",
   "mimetype": "text/x-python",
   "name": "python",
   "nbconvert_exporter": "python",
   "pygments_lexer": "ipython3",
   "version": "3.10.6"
  },
  "orig_nbformat": 4,
  "vscode": {
   "interpreter": {
    "hash": "916dbcbb3f70747c44a77c7bcd40155683ae19c65e1c03b4aa3499c5328201f1"
   }
  }
 },
 "nbformat": 4,
 "nbformat_minor": 2
}
