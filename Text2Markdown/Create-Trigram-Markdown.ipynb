{
 "cells": [
  {
   "attachments": {},
   "cell_type": "markdown",
   "metadata": {},
   "source": [
    "# Create Trigram From Markdown\n",
    "\n",
    "## Summary\n",
    "\n",
    "Read a Markdown file then tokenize, ignore stop words, and then tokenize. Display tokens on the screen with counts."
   ]
  },
  {
   "attachments": {},
   "cell_type": "markdown",
   "metadata": {},
   "source": [
    "## Credits\n",
    "\n",
    "- OpenAI Chat GPT 3, Dec 15 Version."
   ]
  },
  {
   "attachments": {},
   "cell_type": "markdown",
   "metadata": {},
   "source": [
    "## Python Script"
   ]
  },
  {
   "attachments": {},
   "cell_type": "markdown",
   "metadata": {},
   "source": [
    "### Import Libraries\n",
    "\n",
    "- `sys` to interact with OS filesystem.\n",
    "- `re` UNKONWN\n",
    "-  `markdown` to read input files."
   ]
  },
  {
   "cell_type": "code",
   "execution_count": 2,
   "metadata": {},
   "outputs": [],
   "source": [
    "import sys\n",
    "import re\n",
    "import markdown"
   ]
  },
  {
   "attachments": {},
   "cell_type": "markdown",
   "metadata": {},
   "source": [
    "### Read the input file\n",
    "\n",
    "- [ ] Change file from command line. [created::2023-01-20] Use a test file rather than reading from command line.\n",
    "- [ ] Does the file exist? [created::2023-01-20] If error, exit the script. File needs to be there to read it."
   ]
  },
  {
   "cell_type": "code",
   "execution_count": 3,
   "metadata": {},
   "outputs": [],
   "source": [
    "input_file = sys.argv[1]"
   ]
  },
  {
   "attachments": {},
   "cell_type": "markdown",
   "metadata": {},
   "source": [
    "### Initialize a dictionary\n",
    "\n",
    "Initialize a dictionary to store the tri-grams and their counts. A trigram is three words together."
   ]
  },
  {
   "cell_type": "code",
   "execution_count": null,
   "metadata": {},
   "outputs": [],
   "source": [
    "trigrams = {}"
   ]
  },
  {
   "attachments": {},
   "cell_type": "markdown",
   "metadata": {},
   "source": [
    "### Define YAML Frontmatter\n",
    "\n",
    "Use regular expression to match YAML front matter. Ignore values in front matter. It is possible for this to break when additional `^---` elsewhere in file."
   ]
  },
  {
   "cell_type": "code",
   "execution_count": null,
   "metadata": {},
   "outputs": [],
   "source": [
    "front_matter_regex = r'^---\\s*$'"
   ]
  },
  {
   "attachments": {},
   "cell_type": "markdown",
   "metadata": {},
   "source": [
    "### Read file contents\n",
    "\n",
    "Read input file, ignore YAML front matter, load links into list of pointers. Using a flag to skip YAML front matter."
   ]
  },
  {
   "cell_type": "code",
   "execution_count": null,
   "metadata": {},
   "outputs": [],
   "source": [
    "with open(input_file, 'r') as f:\n",
    "    in_front_matter = False\n",
    "    lines = f.readlines()"
   ]
  },
  {
   "attachments": {},
   "cell_type": "markdown",
   "metadata": {},
   "source": [
    "### Convert Markdown to Plaintext\n",
    "\n",
    "This is being done to remove formatting, but may not be necessary. Markdown is plain text already. However, the tokenization functions may not recognize Markdown symbol usage."
   ]
  },
  {
   "cell_type": "code",
   "execution_count": null,
   "metadata": {},
   "outputs": [],
   "source": [
    "plain_text = markdown.markdown(''.join(lines))"
   ]
  },
  {
   "attachments": {},
   "cell_type": "markdown",
   "metadata": {},
   "source": [
    "### Split the plain text into lines\n",
    "\n",
    "This may be more effective to end lines with period, or work with lanugage rather than line break. Would give shorter chunks to process."
   ]
  },
  {
   "cell_type": "code",
   "execution_count": null,
   "metadata": {},
   "outputs": [],
   "source": [
    "lines = plain_text.splitlines()"
   ]
  },
  {
   "attachments": {},
   "cell_type": "markdown",
   "metadata": {},
   "source": [
    "### Purge stopwords and distractions\n",
    "\n",
    "Removing stopwords would make better trigrams. Also removing any unecessary symboles would be good. "
   ]
  },
  {
   "attachments": {},
   "cell_type": "markdown",
   "metadata": {},
   "source": [
    "### Iterate through the lines of the file\n",
    "\n",
    "1. Split lines into works.\n",
    "2. Extract current trigram. There is overlap in words, \"one two three four five\" would be \"one two three\", \"two three four\", and \"three four five\".\n",
    "3. Increment count for trigram. It's counting each trigram individually."
   ]
  },
  {
   "cell_type": "code",
   "execution_count": null,
   "metadata": {},
   "outputs": [],
   "source": [
    "# Iterate through the lines of the file\n",
    "for line in lines:\n",
    "        # Split the line into words\n",
    "        words = line.split()\n",
    "        \n",
    "        # Iterate through the words in the line\n",
    "        for i in range(len(words)-2):\n",
    "            # Extract the current tri-gram\n",
    "            trigram = ' '.join(words[i:i+3])\n",
    "            \n",
    "            # Increment the count for this tri-gram in the dictionary\n",
    "            if trigram in trigrams:\n",
    "                trigrams[trigram] += 1\n",
    "            else:\n",
    "                trigrams[trigram] = 1\n"
   ]
  },
  {
   "attachments": {},
   "cell_type": "markdown",
   "metadata": {},
   "source": [
    "### Sort the trigrams\n",
    "\n",
    "Sorting trigrams by count in descending order may not be necessary. If there are a lot of them, only high count values may be necessary."
   ]
  },
  {
   "cell_type": "code",
   "execution_count": null,
   "metadata": {},
   "outputs": [],
   "source": [
    "sorted_trigrams = sorted(trigrams.items(), key=lambda x: x[1], reverse=True)"
   ]
  },
  {
   "attachments": {},
   "cell_type": "markdown",
   "metadata": {},
   "source": [
    "### Print the trigrams and their counts\n",
    "\n",
    "This prints a giant list that is pretty raw. In the future make this input for something else. Think of format that is easy to visualize or feed to graph analysis."
   ]
  },
  {
   "cell_type": "code",
   "execution_count": null,
   "metadata": {},
   "outputs": [],
   "source": [
    "for trigram, count in sorted_trigrams:\n",
    "    print(f'{trigram}: {count}')"
   ]
  },
  {
   "attachments": {},
   "cell_type": "markdown",
   "metadata": {},
   "source": [
    "## Requirements\n",
    "\n",
    "- Script will read Markdown file. Only moving forward after determining file exists, is markdown, and ignoring any YAML front matter.\n",
    "- Script removes stopwords to improve quality of trigram. Use a common stopword library, as well as local configuration file."
   ]
  },
  {
   "attachments": {},
   "cell_type": "markdown",
   "metadata": {},
   "source": [
    "/EOF/"
   ]
  }
 ],
 "metadata": {
  "kernelspec": {
   "display_name": "Python 3",
   "language": "python",
   "name": "python3"
  },
  "language_info": {
   "codemirror_mode": {
    "name": "ipython",
    "version": 3
   },
   "file_extension": ".py",
   "mimetype": "text/x-python",
   "name": "python",
   "nbconvert_exporter": "python",
   "pygments_lexer": "ipython3",
   "version": "3.10.6 (main, Nov 14 2022, 16:10:14) [GCC 11.3.0]"
  },
  "orig_nbformat": 4,
  "vscode": {
   "interpreter": {
    "hash": "916dbcbb3f70747c44a77c7bcd40155683ae19c65e1c03b4aa3499c5328201f1"
   }
  }
 },
 "nbformat": 4,
 "nbformat_minor": 2
}
